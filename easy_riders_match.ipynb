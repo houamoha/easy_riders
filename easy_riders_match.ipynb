{
 "cells": [
  {
   "cell_type": "code",
   "execution_count": 106,
   "metadata": {},
   "outputs": [],
   "source": [
    "from geopy.location import Location\n",
    "from geopy.point import Point\n",
    "from math import sqrt, acos, sin, cos, radians"
   ]
  },
  {
   "cell_type": "code",
   "execution_count": 40,
   "metadata": {},
   "outputs": [],
   "source": [
    "from geopy.geocoders import Nominatim\n",
    "import certifi\n",
    "import ssl\n",
    "import geopy.geocoders\n",
    "from geopy import distance\n",
    "\n",
    "ctx = ssl.create_default_context(cafile=certifi.where())\n",
    "geopy.geocoders.options.default_ssl_context = ctx\n",
    "geopy.geocoders.options.default_user_agent = 'map'\n",
    "\n",
    "geocoder = Nominatim()"
   ]
  },
  {
   "cell_type": "code",
   "execution_count": 48,
   "metadata": {},
   "outputs": [],
   "source": [
    "from openrouteservice import convert"
   ]
  },
  {
   "cell_type": "code",
   "execution_count": 95,
   "metadata": {},
   "outputs": [
    {
     "data": {
      "text/plain": [
       "Location(Grenoble, Isère, Auvergne-Rhône-Alpes, France métropolitaine, France, (45.1875602, 5.7357819, 0.0))"
      ]
     },
     "execution_count": 95,
     "metadata": {},
     "output_type": "execute_result"
    }
   ],
   "source": [
    "center_map = geocoder.geocode(\"Grenoble, France\")\n",
    "center_map"
   ]
  },
  {
   "cell_type": "code",
   "execution_count": 186,
   "metadata": {},
   "outputs": [
    {
     "name": "stdout",
     "output_type": "stream",
     "text": [
      "demand.from_location\n",
      "45 11m 47.7557s N, 5 44m 17.912s E\n",
      "(45.1965988, 5.7383089)\n",
      "demand.to_location\n",
      "45 13m 4.79028s N, 5 48m 41.1264s E\n",
      "(45.2179973, 5.811424)\n"
     ]
    }
   ],
   "source": [
    "demand = {\"from_location\": Location(address=\"40 rue Blanche Monier, Grenoble, France\"),\n",
    "          \"to_location\": Location(address=\"20 rue Lavoisier, Montbonnot-Saint-Martin, France\")}\n",
    "demand[\"from_location\"] = geocoder.geocode(demand[\"from_location\"].address)\n",
    "demand[\"to_location\"] = geocoder.geocode(demand[\"to_location\"].address)\n",
    "print(\"demand.from_location\")\n",
    "print(demand[\"from_location\"].point)\n",
    "print(\"({}, {})\".format(demand[\"from_location\"].point.latitude, demand[\"from_location\"].point.longitude))\n",
    "print(\"demand.to_location\")\n",
    "print(demand[\"to_location\"].point)\n",
    "print(\"({}, {})\".format(demand[\"to_location\"].point.latitude, demand[\"to_location\"].point.longitude))"
   ]
  },
  {
   "cell_type": "code",
   "execution_count": 210,
   "metadata": {},
   "outputs": [
    {
     "name": "stdout",
     "output_type": "stream",
     "text": [
      "demand.from_location\n",
      "45 10m 54.7738s N, 5 44m 2.5386s E\n",
      "(45.1818816, 5.7340385)\n",
      "demand.to_location\n",
      "45 13m 4.79028s N, 5 48m 41.1264s E\n",
      "(45.2179973, 5.811424)\n"
     ]
    }
   ],
   "source": [
    "demand = {\"from_location\": Location(address=\"1 avenue Albert 1er de Belgique, Grenoble, France\"),\n",
    "          \"to_location\": Location(address=\"20 rue Lavoisier, Montbonnot-Saint-Martin, France\")}\n",
    "demand[\"from_location\"] = geocoder.geocode(demand[\"from_location\"].address)\n",
    "demand[\"to_location\"] = geocoder.geocode(demand[\"to_location\"].address)\n",
    "print(\"demand.from_location\")\n",
    "print(demand[\"from_location\"].point)\n",
    "print(\"({}, {})\".format(demand[\"from_location\"].point.latitude, demand[\"from_location\"].point.longitude))\n",
    "print(\"demand.to_location\")\n",
    "print(demand[\"to_location\"].point)\n",
    "print(\"({}, {})\".format(demand[\"to_location\"].point.latitude, demand[\"to_location\"].point.longitude))"
   ]
  },
  {
   "cell_type": "code",
   "execution_count": 211,
   "metadata": {},
   "outputs": [
    {
     "name": "stdout",
     "output_type": "stream",
     "text": [
      "offer.from_location\n",
      "45 10m 43.5068s N, 5 43m 22.0728s E\n",
      "(45.1787519, 5.722798)\n",
      "offer.to_location\n",
      "45 13m 4.79028s N, 5 48m 41.1264s E\n",
      "(45.2179973, 5.811424)\n"
     ]
    }
   ],
   "source": [
    "offer = {\"from_location\": Location(address=\"26 rue Le Brix, Grenoble, France\"),\n",
    "          \"to_location\": Location(address=\"20 rue Lavoisier, Montbonnot-Saint-Martin, France\")}\n",
    "offer[\"from_location\"] = geocoder.geocode(offer[\"from_location\"].address)\n",
    "offer[\"to_location\"] = geocoder.geocode(offer[\"to_location\"].address)\n",
    "print(\"offer.from_location\")\n",
    "print(offer[\"from_location\"].point)\n",
    "print(\"({}, {})\".format(offer[\"from_location\"].point.latitude, offer[\"from_location\"].point.longitude))\n",
    "print(\"offer.to_location\")\n",
    "print(offer[\"to_location\"].point)\n",
    "print(\"({}, {})\".format(offer[\"to_location\"].point.latitude, offer[\"to_location\"].point.longitude))"
   ]
  },
  {
   "cell_type": "code",
   "execution_count": 31,
   "metadata": {
    "jupyter": {
     "source_hidden": true
    }
   },
   "outputs": [],
   "source": [
    "class solution:\n",
    "    def __init__(self):\n",
    "        self.x1 = -1\n",
    "        self.y1 = -1\n",
    "        self.x2 = -1\n",
    "        self.y2 = -1\n",
    "    \n",
    "def pente_droite(a: Point, b: Point):\n",
    "    if((b.x-a.x)==0):\n",
    "        return 0.0\n",
    "    return (b.y-a.y)/(b.x-a.x)\n",
    "\n",
    "def origine_droite(a, pente):\n",
    "    return a.y-pente*a.x\n",
    "\n",
    "def solve(line_slope, line_origin, circle_origin, circle_radius, sol):\n",
    "    # resoudre : line_slope x + line_origin = y et (x-circle_origin.x)²+(y-circle_origin.y)² = circle_radius\n",
    "    cx = line_origin*line_origin+circle_origin.y*circle_origin.y-2*circle_origin.y*line_slope-2*circle_origin.y*line_origin+circle_origin.x*circle_origin.x-circle_radius\n",
    "    ax = line_slope*line_slope+1\n",
    "    bx = 2*line_slope*line_origin-2*circle_origin.x\n",
    "    delta = bx*bx-4*ax*cx\n",
    "    sol = solution()\n",
    "    if(delta < 0):\n",
    "        return false\n",
    "    \n",
    "    sol.delta = delta\n",
    "    sol.x1 = (-bx-mth.sqrt(delta))/(2*ax)\n",
    "    sol.y1 = line_slope*sol.x1 + line_origin\n",
    "    sol.x2 = (-bx+mth.sqrt(delta))/(2*ax)\n",
    "    sol.y2 = line_slope*sol.x2 + line_origin\n",
    "    \n",
    "\n",
    "def intersection(sol):\n",
    "    return sol.delta >= 0\n",
    "    \n",
    "def is_between(a: point, b: point, c: point):\n",
    "    # check if c is between a and b\n",
    "    if a.x <= b.x:\n",
    "        if c.x < a.x or c.x > b.x:\n",
    "            return false\n",
    "    else:\n",
    "        if c.x < b.x or c.x > a.x:\n",
    "            return false\n",
    "    return true\n",
    "        \n",
    "    \n",
    "    "
   ]
  },
  {
   "cell_type": "code",
   "execution_count": 148,
   "metadata": {},
   "outputs": [],
   "source": [
    "import folium\n",
    "from openrouteservice import client\n",
    "\n",
    "api_key = '5b3ce3597851110001cf62486818cba49f3142778d9a9242848457fd'\n",
    "clnt = client.Client(key=api_key)"
   ]
  },
  {
   "cell_type": "code",
   "execution_count": 212,
   "metadata": {},
   "outputs": [],
   "source": [
    "params_route = {'profile': 'driving-car',\n",
    "               'format_out': 'geojson',\n",
    "               'geometry': 'true',\n",
    "               'format': 'geojson',\n",
    "               'instructions': 'false',\n",
    "               }\n",
    "params_route['coordinates'] = [[offer[\"from_location\"].longitude,offer[\"from_location\"].latitude],\n",
    "                              [offer[\"to_location\"].longitude,offer[\"to_location\"].latitude]]\n",
    "json_route = clnt.directions(**params_route)"
   ]
  },
  {
   "cell_type": "markdown",
   "metadata": {},
   "source": [
    "json_route[\"features\"][0][\"geometry\"][\"coordinates\"]"
   ]
  },
  {
   "cell_type": "code",
   "execution_count": 213,
   "metadata": {},
   "outputs": [
    {
     "data": {
      "text/plain": [
       "<folium.features.GeoJson at 0x1140d3080>"
      ]
     },
     "execution_count": 213,
     "metadata": {},
     "output_type": "execute_result"
    }
   ],
   "source": [
    "m = folium.Map(location=[center_map.latitude, center_map.longitude], zoom_start=12)\n",
    "folium.features.GeoJson(json_route).add_to(m)"
   ]
  },
  {
   "cell_type": "code",
   "execution_count": 214,
   "metadata": {},
   "outputs": [],
   "source": [
    "def perpendicular_projection(a: Point, b: Point, c: Point):\n",
    "    if a == b:\n",
    "        if a == c:\n",
    "            return a, 0\n",
    "        else:\n",
    "            return (None, float('Infinity'))    \n",
    "    else:\n",
    "        lat_diff = b.latitude - a.latitude \n",
    "        lng_diff = b.longitude - a.longitude \n",
    "        ortogonal_shortest = ((lat_diff * (c.latitude - a.latitude)) + (lng_diff * (c.longitude - a.longitude))) / ((lat_diff * lat_diff) + (lng_diff * lng_diff))\n",
    "        sol = Point(-1, -1)\n",
    "        sol.latitude = a.latitude + lat_diff * ortogonal_shortest \n",
    "        sol.longitude = a.longitude + lng_diff * ortogonal_shortest\n",
    "        if (sol.latitude >= min(a.latitude, b.latitude) and sol.latitude <= max(a.latitude, b.latitude) \n",
    "            and sol.longitude >= min(a.longitude, b.longitude) and sol.longitude <= max(a.longitude, b.longitude)) :\n",
    "            d = acos(sin(radians(c.latitude)) * sin(radians(sol.latitude)) \n",
    "                     + cos(radians(c.latitude)) * cos(radians(sol.latitude)) \n",
    "                     * cos(radians(c.longitude - sol.longitude)))\n",
    "            earth_radius = 6378137 # meters\n",
    "            d = d * earth_radius\n",
    "            #d = sqrt((c.latitude - sol.latitude) * (c.latitude - sol.latitude) +\n",
    "            #(c.longitude - sol.longitude) * (c.longitude - sol.longitude))\n",
    "            return sol, d    \n",
    "\n",
    "    return (None, float('Infinity'))"
   ]
  },
  {
   "cell_type": "markdown",
   "metadata": {
    "jupyter": {
     "outputs_hidden": true
    }
   },
   "source": [
    "import matplotlib.pyplot as plt\n",
    "fig, ax = plt.subplots(figsize=(5, 5))\n",
    "ax.set_xlim(-10, 10)\n",
    "ax.set_ylim(-10, 10)\n",
    "ax.plot([a.x, b.x], [a.y, b.y])\n",
    "ax.plot(c.x, c.y, 'o')\n",
    "if sol != None:\n",
    "    ax.plot(sol.x, sol.y, 'o')"
   ]
  },
  {
   "cell_type": "code",
   "execution_count": 215,
   "metadata": {},
   "outputs": [
    {
     "name": "stdout",
     "output_type": "stream",
     "text": [
      "solution: (45.18435528527839, 5.7330096220523), distance: 286.95889251153244\n"
     ]
    }
   ],
   "source": [
    "d_min = float('Infinity')\n",
    "i_min = -1\n",
    "s_min = Point()\n",
    "\n",
    "for i in range(len(json_route[\"features\"][0][\"geometry\"][\"coordinates\"]) - 1):\n",
    "    a = Point(json_route[\"features\"][0][\"geometry\"][\"coordinates\"][i][1], \n",
    "              json_route[\"features\"][0][\"geometry\"][\"coordinates\"][i][0])\n",
    "    b = Point(json_route[\"features\"][0][\"geometry\"][\"coordinates\"][i+1][1], \n",
    "              json_route[\"features\"][0][\"geometry\"][\"coordinates\"][i+1][0])\n",
    "    #print(a.latitude)\n",
    "    #print(json_route[\"features\"][0][\"geometry\"][\"coordinates\"][i])\n",
    "    sol, d = perpendicular_projection(a, b, demand[\"from_location\"].point)\n",
    "    #print(d)\n",
    "    if d < d_min:\n",
    "        d_min = d\n",
    "        i_min = i\n",
    "        s_min = sol\n",
    "\n",
    "print(\"solution: ({}, {}), distance: {}\".format(s_min.latitude, s_min.longitude, d_min))"
   ]
  },
  {
   "cell_type": "code",
   "execution_count": 216,
   "metadata": {},
   "outputs": [],
   "source": [
    "folium.map.Marker([demand[\"from_location\"].latitude, demand[\"from_location\"].longitude], icon=folium.Icon(color='blue',\n",
    "                                        icon_color='#ffffff',\n",
    "                                        icon='home'),\n",
    "                      popup=\"demand from\",\n",
    "                 ).add_to(m) # Add apartment locations to map\n",
    "\n",
    "if s_min is not None:\n",
    "    folium.map.Marker([s_min.latitude, s_min.longitude], icon=folium.Icon(color='red',\n",
    "                                        icon_color='#ffffff',\n",
    "                                        icon='pushpin'\n",
    "                                       ),\n",
    "                      popup=\"meet here\",\n",
    "                 ).add_to(m) # Add apartment locations to map"
   ]
  },
  {
   "cell_type": "code",
   "execution_count": 217,
   "metadata": {},
   "outputs": [
    {
     "data": {
      "text/html": [
       "<div style=\"width:100%;\"><div style=\"position:relative;width:100%;height:0;padding-bottom:60%;\"><iframe src=\"data:text/html;charset=utf-8;base64,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\" style=\"position:absolute;width:100%;height:100%;left:0;top:0;border:none !important;\" allowfullscreen webkitallowfullscreen mozallowfullscreen></iframe></div></div>"
      ],
      "text/plain": [
       "<folium.folium.Map at 0x1140d3278>"
      ]
     },
     "execution_count": 217,
     "metadata": {},
     "output_type": "execute_result"
    }
   ],
   "source": [
    "m"
   ]
  },
  {
   "cell_type": "code",
   "execution_count": null,
   "metadata": {},
   "outputs": [],
   "source": []
  }
 ],
 "metadata": {
  "kernelspec": {
   "display_name": "Python 3",
   "language": "python",
   "name": "python3"
  },
  "language_info": {
   "codemirror_mode": {
    "name": "ipython",
    "version": 3
   },
   "file_extension": ".py",
   "mimetype": "text/x-python",
   "name": "python",
   "nbconvert_exporter": "python",
   "pygments_lexer": "ipython3",
   "version": "3.7.3"
  }
 },
 "nbformat": 4,
 "nbformat_minor": 4
}
